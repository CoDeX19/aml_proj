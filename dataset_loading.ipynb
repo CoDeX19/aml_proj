{
 "cells": [
  {
   "cell_type": "code",
   "execution_count": 8,
   "id": "28da63fc",
   "metadata": {},
   "outputs": [],
   "source": [
    "#Importing the Fiftyone library for further usage\n",
    "import fiftyone.zoo as foz\n",
    "import fiftyone as fo"
   ]
  },
  {
   "cell_type": "code",
   "execution_count": 28,
   "id": "0c2f7fa1",
   "metadata": {},
   "outputs": [
    {
     "name": "stdout",
     "output_type": "stream",
     "text": [
      "Downloading split 'train' to 'C:\\Users\\islam\\fiftyone\\open-images-v7\\train' if necessary\n",
      "Downloading 'https://storage.googleapis.com/openimages/2018_04/train/train-images-boxable-with-rotation.csv' to 'C:\\Users\\islam\\fiftyone\\open-images-v7\\train\\metadata\\image_ids.csv'\n",
      " 100% |██████|    4.8Gb/4.8Gb [6.2s elapsed, 0s remaining, 733.6Mb/s]       \n",
      "Downloading 'https://storage.googleapis.com/openimages/v5/class-descriptions-boxable.csv' to 'C:\\Users\\islam\\fiftyone\\open-images-v7\\train\\metadata\\classes.csv'\n",
      "Downloading 'https://storage.googleapis.com/openimages/2018_04/bbox_labels_600_hierarchy.json' to 'C:\\Users\\islam\\AppData\\Local\\Temp\\tmp1z4zz76e\\metadata\\hierarchy.json'\n",
      "Downloading 'https://storage.googleapis.com/openimages/v5/train-annotations-human-imagelabels-boxable.csv' to 'C:\\Users\\islam\\fiftyone\\open-images-v7\\train\\labels\\classifications.csv'\n",
      "Downloading 'https://storage.googleapis.com/openimages/v6/oidv6-train-annotations-bbox.csv' to 'C:\\Users\\islam\\fiftyone\\open-images-v7\\train\\labels\\detections.csv'\n",
      "Downloading 30000 images\n",
      " 100% |███████████████| 30000/30000 [1.8h elapsed, 0s remaining, 1.4 files/s]      \n",
      "Dataset info written to 'C:\\Users\\islam\\fiftyone\\open-images-v7\\info.json'\n",
      "Loading existing dataset 'open-images-v7-train-30000'. To reload from disk, either delete the existing dataset or provide a custom `dataset_name` to use\n",
      "Downloading split 'test' to 'C:\\Users\\islam\\fiftyone\\open-images-v7\\test' if necessary\n",
      "Downloading 'https://storage.googleapis.com/openimages/2018_04/test/test-images-with-rotation.csv' to 'C:\\Users\\islam\\fiftyone\\open-images-v7\\test\\metadata\\image_ids.csv'\n",
      "Downloading 'https://storage.googleapis.com/openimages/v5/class-descriptions-boxable.csv' to 'C:\\Users\\islam\\fiftyone\\open-images-v7\\test\\metadata\\classes.csv'\n",
      "Downloading 'https://storage.googleapis.com/openimages/2018_04/bbox_labels_600_hierarchy.json' to 'C:\\Users\\islam\\AppData\\Local\\Temp\\tmp05_eweu1\\metadata\\hierarchy.json'\n",
      "Downloading 'https://storage.googleapis.com/openimages/v5/test-annotations-human-imagelabels-boxable.csv' to 'C:\\Users\\islam\\fiftyone\\open-images-v7\\test\\labels\\classifications.csv'\n",
      "Downloading 'https://storage.googleapis.com/openimages/v5/test-annotations-bbox.csv' to 'C:\\Users\\islam\\fiftyone\\open-images-v7\\test\\labels\\detections.csv'\n",
      "Downloading 6000 images\n",
      " 100% |█████████████████| 6000/6000 [21.8m elapsed, 0s remaining, 1.1 files/s]      \n",
      "Dataset info written to 'C:\\Users\\islam\\fiftyone\\open-images-v7\\info.json'\n",
      "Loading existing dataset 'open-images-v7-test-6000'. To reload from disk, either delete the existing dataset or provide a custom `dataset_name` to use\n"
     ]
    }
   ],
   "source": [
    "#Loading our training and validation dataset\n",
    "dataset_train_val = foz.load_zoo_dataset(\"open-images-v7\",\n",
    "                               split= \"train\",\n",
    "                              label_types=[\"detections\", \"classifications\"],\n",
    "                              max_samples= 30000,\n",
    "                              seed = 51,\n",
    "                              shuffle=True)\n",
    "\n",
    "#Loading our testing datset\n",
    "dataset_test = foz.load_zoo_dataset(\"open-images-v7\",\n",
    "                               split= \"test\",\n",
    "                              label_types=[\"detections\", \"classifications\"],\n",
    "                              max_samples= 6000,\n",
    "                              seed = 51,\n",
    "                              shuffle=True)\n"
   ]
  },
  {
   "cell_type": "code",
   "execution_count": 34,
   "id": "561da133",
   "metadata": {},
   "outputs": [
    {
     "data": {
      "text/plain": [
       "{'samples_count': 30000,\n",
       " 'samples_bytes': 81065461,\n",
       " 'samples_size': '77.3MB',\n",
       " 'total_bytes': 81065461,\n",
       " 'total_size': '77.3MB'}"
      ]
     },
     "execution_count": 34,
     "metadata": {},
     "output_type": "execute_result"
    }
   ],
   "source": [
    "dataset_train_val.stats()"
   ]
  },
  {
   "cell_type": "code",
   "execution_count": 43,
   "id": "3e77d3d2",
   "metadata": {},
   "outputs": [
    {
     "data": {
      "text/plain": [
       "601"
      ]
     },
     "execution_count": 43,
     "metadata": {},
     "output_type": "execute_result"
    }
   ],
   "source": [
    "len(dataset_train_val.default_classes)"
   ]
  },
  {
   "cell_type": "code",
   "execution_count": 44,
   "id": "965a909a",
   "metadata": {},
   "outputs": [
    {
     "data": {
      "text/plain": [
       "<bound method SampleCollection.load_annotations of Name:        open-images-v7-train-30000\n",
       "Media type:  image\n",
       "Num samples: 30000\n",
       "Persistent:  False\n",
       "Tags:        []\n",
       "Sample fields:\n",
       "    id:              fiftyone.core.fields.ObjectIdField\n",
       "    filepath:        fiftyone.core.fields.StringField\n",
       "    tags:            fiftyone.core.fields.ListField(fiftyone.core.fields.StringField)\n",
       "    metadata:        fiftyone.core.fields.EmbeddedDocumentField(fiftyone.core.metadata.ImageMetadata)\n",
       "    positive_labels: fiftyone.core.fields.EmbeddedDocumentField(fiftyone.core.labels.Classifications)\n",
       "    negative_labels: fiftyone.core.fields.EmbeddedDocumentField(fiftyone.core.labels.Classifications)\n",
       "    detections:      fiftyone.core.fields.EmbeddedDocumentField(fiftyone.core.labels.Detections)>"
      ]
     },
     "execution_count": 44,
     "metadata": {},
     "output_type": "execute_result"
    }
   ],
   "source": [
    "dataset_train_val.load_annotations"
   ]
  },
  {
   "cell_type": "code",
   "execution_count": 47,
   "id": "bff631ca",
   "metadata": {},
   "outputs": [
    {
     "data": {
      "text/plain": [
       "{'samples_count': 6000,\n",
       " 'samples_bytes': 15439524,\n",
       " 'samples_size': '14.7MB',\n",
       " 'total_bytes': 15439524,\n",
       " 'total_size': '14.7MB'}"
      ]
     },
     "execution_count": 47,
     "metadata": {},
     "output_type": "execute_result"
    }
   ],
   "source": [
    "dataset_test.stats()"
   ]
  },
  {
   "cell_type": "code",
   "execution_count": 50,
   "id": "2ffd0779",
   "metadata": {},
   "outputs": [
    {
     "data": {
      "text/plain": [
       "601"
      ]
     },
     "execution_count": 50,
     "metadata": {},
     "output_type": "execute_result"
    }
   ],
   "source": [
    "len(dataset_test.default_classes)"
   ]
  },
  {
   "cell_type": "code",
   "execution_count": 54,
   "id": "162914bf",
   "metadata": {},
   "outputs": [
    {
     "data": {
      "text/html": [
       "\n",
       "        <iframe\n",
       "            width=\"100%\"\n",
       "            height=\"800\"\n",
       "            src=\"http://localhost:5151/?notebook=True&subscription=84564ffe-2c9c-4e70-a855-e656d6101296\"\n",
       "            frameborder=\"0\"\n",
       "            allowfullscreen\n",
       "            \n",
       "        ></iframe>\n",
       "        "
      ],
      "text/plain": [
       "<IPython.lib.display.IFrame at 0x175cb69a040>"
      ]
     },
     "metadata": {},
     "output_type": "display_data"
    },
    {
     "data": {
      "text/plain": [
       "Dataset:          open-images-v7-train-30000\n",
       "Media type:       image\n",
       "Num samples:      30000\n",
       "Selected samples: 0\n",
       "Selected labels:  0\n",
       "Session URL:      http://localhost:5151/"
      ]
     },
     "execution_count": 54,
     "metadata": {},
     "output_type": "execute_result"
    }
   ],
   "source": [
    "fo.launch_app(dataset_train_val)"
   ]
  }
 ],
 "metadata": {
  "kernelspec": {
   "display_name": "Python 3 (ipykernel)",
   "language": "python",
   "name": "python3"
  },
  "language_info": {
   "codemirror_mode": {
    "name": "ipython",
    "version": 3
   },
   "file_extension": ".py",
   "mimetype": "text/x-python",
   "name": "python",
   "nbconvert_exporter": "python",
   "pygments_lexer": "ipython3",
   "version": "3.9.16"
  }
 },
 "nbformat": 4,
 "nbformat_minor": 5
}
